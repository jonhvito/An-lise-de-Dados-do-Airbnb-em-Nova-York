{
  "nbformat": 4,
  "nbformat_minor": 0,
  "metadata": {
    "colab": {
      "provenance": []
    },
    "kernelspec": {
      "name": "python3",
      "display_name": "Python 3"
    },
    "language_info": {
      "name": "python"
    }
  },
  "cells": [
    {
      "cell_type": "markdown",
      "source": [
        "#**Esse projeto simula uma demananda da empresa Airbnb**\n",
        "\n",
        "# As novas perguntas do CEO\n",
        "1. Qual é o valor do aluguel (diária) mais caro de cada região da base de dados\n",
        "da cidade de Nova York, apenas para os imóveis disponível para alugar?\n",
        "2. Conseguimos saber onde estão localizados os imóveis com o valor do\n",
        "aluguel mais caro, na cidade de Nova York, apenas para os imóveis\n",
        "disponível para alugar?\n",
        "3. Conseguimos saber onde estão localizados os imóveis pelo seu tipo, apenas\n",
        "para os imóveis disponível para alugar?"
      ],
      "metadata": {
        "id": "W5TaPIwcKVaX"
      }
    },
    {
      "cell_type": "markdown",
      "source": [
        "# Importações"
      ],
      "metadata": {
        "id": "m1b-a6qqKfHz"
      }
    },
    {
      "cell_type": "code",
      "execution_count": null,
      "metadata": {
        "id": "faevfTv0KFiF"
      },
      "outputs": [],
      "source": [
        "\n",
        "##**O ARQUIVO CSV É DE SUMA IMPORTÂNCIA, ALTERE O CAMINHO DO ARQUIVO DE ACORDO COM O AMBIENTE DE EXECUÇÃO**##\n",
        "\n",
        "import pandas as pd\n",
        "import numpy as np\n",
        "from google.colab import drive\n",
        "from matplotlib import pyplot as plt\n",
        "import plotly.express as px\n",
        "import folium\n",
        "\n",
        "drive.mount('/content/drive')\n",
        "\n",
        "#altere o caminho de acordo com seu ambiente de execução\n",
        "arquivo_dados = '/content/drive/My Drive/python data science/AB_NYC_2019.csv'\n",
        "\n",
        "#cria um DataFrame com o arquivo\n",
        "data = pd.read_csv(arquivo_dados)"
      ]
    },
    {
      "cell_type": "markdown",
      "source": [
        "# **Tasks**\n",
        "\n",
        "# **Olá CEO, tudo bom?**\n",
        "**Segue em anexo, um painel com os gráficos que respondem as perguntas de\n",
        "negócio.**"
      ],
      "metadata": {
        "id": "xlVLn2C7Sil8"
      }
    },
    {
      "cell_type": "markdown",
      "source": [
        "## Primeira Task\n",
        "\n",
        "**1. Qual é o valor do aluguel (diária) mais caro de cada região da base de\n",
        "dados da cidade de Nova York?**"
      ],
      "metadata": {
        "id": "k3VcnkdeSnWy"
      }
    },
    {
      "cell_type": "code",
      "source": [
        "\n",
        "# Selecionando as linhas e colunas\n",
        "colunas = ['price', 'neighbourhood_group']\n",
        "colunas_groupby = ['neighbourhood_group']\n",
        "# Criando os segmentos\n",
        "data_plot = data.loc[:, colunas].groupby(colunas_groupby).max().reset_index()\n",
        "# Desenhando o gráfico\n",
        "px.bar( data_plot, x='neighbourhood_group', y='price' )"
      ],
      "metadata": {
        "id": "HZZRw3M8Lruk"
      },
      "execution_count": null,
      "outputs": []
    },
    {
      "cell_type": "markdown",
      "source": [
        "## Segunda Task\n",
        "\n",
        "**2. Conseguimos saber onde estão localizados os imóveis com o valor do\n",
        "aluguel mais caro, na cidade de Nova York?**"
      ],
      "metadata": {
        "id": "5IIp7PzNMICv"
      }
    },
    {
      "cell_type": "code",
      "source": [
        "\n",
        "# Selecionando linhas e colunas\n",
        "colunas = ['price', 'neighbourhood_group', 'latitude', 'longitude']\n",
        "colunas_groupby = ['neighbourhood_group']\n",
        "# Criando os segmentos\n",
        "data_plot = data.loc[:, colunas].groupby(colunas_groupby).max().reset_index()\n",
        "# Criando a área do mapa\n",
        "f = folium.Figure( width=1024, height=768 )\n",
        "# Desenhando o mapa\n",
        "map = folium.Map(\n",
        "location=[data_plot['latitude'].mean(),\n",
        "data_plot['longitude'].mean()],\n",
        "zoom_start=14,\n",
        "control_scale=True\n",
        ")\n",
        "# Adicionando os pinos nos mapas\n",
        "for index, location_info in data_plot.iterrows():\n",
        "folium.Marker( [location_info['latitude'],\n",
        "location_info['longitude']],\n",
        "popup=location_info['neighbourhood_group'] ).add_to( map )\n",
        "# Mostrando o mapa\n",
        "map"
      ],
      "metadata": {
        "id": "IZSPDoMCMS_I"
      },
      "execution_count": null,
      "outputs": []
    },
    {
      "cell_type": "markdown",
      "source": [
        "## Terceira Task\n",
        "\n",
        "**3. Conseguimos saber onde estão localizados os imóveis pelo seu tipo?**"
      ],
      "metadata": {
        "id": "e6K9Tv3DQMLB"
      }
    },
    {
      "cell_type": "code",
      "source": [
        "# Selecionando linhas aleatoriamente e colunas\n",
        "colunas = ['neighbourhood_group', 'room_type', 'latitude', 'longitude']\n",
        "data_plot = data.loc[:, colunas].sample( 100 )\n",
        "# Criando uma nova coluna chamada 'color'\n",
        "data_plot.loc[:, 'color'] = 'NA'\n",
        "# Selecionando as linhas do segmento\n",
        "linhas_private_room = data_plot.loc[:, 'room_type'] == 'Private room'\n",
        "linhas_entire_apt = data_plot.loc[:, 'room_type'] == 'Entire home/apt'\n",
        "linhas_shared_room = data_plot.loc[:, 'room_type'] == 'Shared room'\n",
        "# Colocando as cores para cada segmento\n",
        "data_plot.loc[linhas_private_room, 'color'] = 'darkgreen'\n",
        "data_plot.loc[linhas_entire_apt, 'color'] = 'darkred'\n",
        "data_plot.loc[linhas_shared_room, 'color'] = 'purple'\n",
        "# Criando a área do mapa\n",
        "map = folium.Map()\n",
        "# Adicionando os pins nos mapas\n",
        "for index, location_info in data_plot.iterrows():\n",
        "folium.Marker(\n",
        "[location_info['latitude'], location_info['longitude']],\n",
        "popup=location_info[['neighbourhood_group', 'room_type']],\n",
        "icon=folium.Icon( color=location_info['color'] )\n",
        ").add_to( map )\n",
        "# Exibindo o mapa\n",
        "map"
      ],
      "metadata": {
        "id": "hg-tTb3vRHG8"
      },
      "execution_count": null,
      "outputs": []
    }
  ]
}